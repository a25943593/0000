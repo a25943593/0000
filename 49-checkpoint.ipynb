{
 "cells": [
  {
   "cell_type": "code",
   "execution_count": null,
   "metadata": {},
   "outputs": [],
   "source": [
    "#3-29-1\n",
    "Height=eval(input('Height:'))\n",
    "Weight=eval(input('Weight:'))\n",
    "Perimeter=(Height*2+Weight*2)\n",
    "print('Perimeter=%.2f'%(Perimeter))\n",
    "Area=Height*Weight\n",
    "\n",
    "print('Area=%.2f'%(Area))"
   ]
  },
  {
   "cell_type": "code",
   "execution_count": null,
   "metadata": {},
   "outputs": [],
   "source": [
    "#3-29-2\n",
    ">>> import math\n",
    "s=eval(input('S:'))\n",
    "Height=((math.sqrt(3)/2)*s)\n",
    "print('Height=%.2f'%(Height))\n",
    "Area=((math.sqrt(3)/4)*s*s)\n",
    "print('Area=%.2f'%(Area))"
   ]
  },
  {
   "cell_type": "code",
   "execution_count": null,
   "metadata": {},
   "outputs": [],
   "source": [
    "#3-29-3\n",
    "x=eval(input('x(min)='))\n",
    "y=eval(input('y(sec)='))\n",
    "z=eval(input('z(km)='))\n",
    "miles=(z/1.6)\n",
    "hour=(x/60+y/3600)\n",
    "Speed=(miles/hour)\n",
    "print('Speed=%.1f miles/hour '% (Speed))"
   ]
  },
  {
   "cell_type": "code",
   "execution_count": null,
   "metadata": {},
   "outputs": [],
   "source": [
    "#3-30-4\n",
    "mile=eval(input('mile:'))\n",
    "Km=(mile*1.6)\n",
    "print('Km=%.1f'%(Km))"
   ]
  },
  {
   "cell_type": "code",
   "execution_count": null,
   "metadata": {},
   "outputs": [],
   "source": [
    "#3-30-5\n",
    "Fahrenheit=eval(input('Fahrenheit:'))\n",
    "Celsius=(5/9*(Fahrenheit-32))\n",
    "print('Celsius=%.1f'%(Celsius))"
   ]
  },
  {
   "cell_type": "code",
   "execution_count": 7,
   "metadata": {},
   "outputs": [
    {
     "name": "stdout",
     "output_type": "stream",
     "text": [
      "num1:100\n",
      "num2:200\n",
      "num3:300\n",
      "total=600.0\n",
      "average=200.0\n"
     ]
    }
   ],
   "source": [
    "#3-30-6\n",
    "num1=eval(input('num1:'))\n",
    "num2=eval(input('num2:'))\n",
    "num3=eval(input('num3:'))\n",
    "total=num1+num2+num3\n",
    "print('total=%.1f'%(total))\n",
    "average=total/3\n",
    "print('average=%.1f'%(average))"
   ]
  },
  {
   "cell_type": "code",
   "execution_count": null,
   "metadata": {},
   "outputs": [],
   "source": []
  }
 ],
 "metadata": {
  "kernelspec": {
   "display_name": "Python 3",
   "language": "python",
   "name": "python3"
  },
  "language_info": {
   "codemirror_mode": {
    "name": "ipython",
    "version": 3
   },
   "file_extension": ".py",
   "mimetype": "text/x-python",
   "name": "python",
   "nbconvert_exporter": "python",
   "pygments_lexer": "ipython3",
   "version": "3.7.3"
  }
 },
 "nbformat": 4,
 "nbformat_minor": 2
}
